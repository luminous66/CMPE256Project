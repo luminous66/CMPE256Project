{
 "cells": [
  {
   "cell_type": "code",
   "execution_count": 1,
   "metadata": {},
   "outputs": [],
   "source": [
    "#import libraries\n",
    "\n",
    "%matplotlib inline\n",
    "import re\n",
    "import numpy as np\n",
    "import pandas as pd\n",
    "import seaborn as sns\n",
    "import matplotlib.pyplot as plt\n",
    "import nltk\n",
    "from nltk.corpus import stopwords\n",
    "from sklearn.feature_extraction.text import CountVectorizer\n",
    "from wordcloud import WordCloud, ImageColorGenerator\n"
   ]
  },
  {
   "cell_type": "code",
   "execution_count": 2,
   "metadata": {},
   "outputs": [],
   "source": [
    "# import the data\n",
    "train = pd.read_csv('cleaned_hm.csv')"
   ]
  },
  {
   "cell_type": "code",
   "execution_count": 3,
   "metadata": {},
   "outputs": [
    {
     "data": {
      "text/html": [
       "<div>\n",
       "<style scoped>\n",
       "    .dataframe tbody tr th:only-of-type {\n",
       "        vertical-align: middle;\n",
       "    }\n",
       "\n",
       "    .dataframe tbody tr th {\n",
       "        vertical-align: top;\n",
       "    }\n",
       "\n",
       "    .dataframe thead th {\n",
       "        text-align: right;\n",
       "    }\n",
       "</style>\n",
       "<table border=\"1\" class=\"dataframe\">\n",
       "  <thead>\n",
       "    <tr style=\"text-align: right;\">\n",
       "      <th></th>\n",
       "      <th>hmid</th>\n",
       "      <th>wid</th>\n",
       "      <th>reflection_period</th>\n",
       "      <th>original_hm</th>\n",
       "      <th>cleaned_hm</th>\n",
       "      <th>modified</th>\n",
       "      <th>num_sentence</th>\n",
       "      <th>ground_truth_category</th>\n",
       "      <th>predicted_category</th>\n",
       "    </tr>\n",
       "  </thead>\n",
       "  <tbody>\n",
       "    <tr>\n",
       "      <th>0</th>\n",
       "      <td>27673</td>\n",
       "      <td>2053</td>\n",
       "      <td>24h</td>\n",
       "      <td>I went on a successful date with someone I fel...</td>\n",
       "      <td>I went on a successful date with someone I fel...</td>\n",
       "      <td>True</td>\n",
       "      <td>1</td>\n",
       "      <td>NaN</td>\n",
       "      <td>affection</td>\n",
       "    </tr>\n",
       "    <tr>\n",
       "      <th>1</th>\n",
       "      <td>27674</td>\n",
       "      <td>2</td>\n",
       "      <td>24h</td>\n",
       "      <td>I was happy when my son got 90% marks in his e...</td>\n",
       "      <td>I was happy when my son got 90% marks in his e...</td>\n",
       "      <td>True</td>\n",
       "      <td>1</td>\n",
       "      <td>NaN</td>\n",
       "      <td>affection</td>\n",
       "    </tr>\n",
       "    <tr>\n",
       "      <th>2</th>\n",
       "      <td>27675</td>\n",
       "      <td>1936</td>\n",
       "      <td>24h</td>\n",
       "      <td>I went to the gym this morning and did yoga.</td>\n",
       "      <td>I went to the gym this morning and did yoga.</td>\n",
       "      <td>True</td>\n",
       "      <td>1</td>\n",
       "      <td>NaN</td>\n",
       "      <td>exercise</td>\n",
       "    </tr>\n",
       "    <tr>\n",
       "      <th>3</th>\n",
       "      <td>27676</td>\n",
       "      <td>206</td>\n",
       "      <td>24h</td>\n",
       "      <td>We had a serious talk with some friends of our...</td>\n",
       "      <td>We had a serious talk with some friends of our...</td>\n",
       "      <td>True</td>\n",
       "      <td>2</td>\n",
       "      <td>bonding</td>\n",
       "      <td>bonding</td>\n",
       "    </tr>\n",
       "    <tr>\n",
       "      <th>4</th>\n",
       "      <td>27677</td>\n",
       "      <td>6227</td>\n",
       "      <td>24h</td>\n",
       "      <td>I went with grandchildren to butterfly display...</td>\n",
       "      <td>I went with grandchildren to butterfly display...</td>\n",
       "      <td>True</td>\n",
       "      <td>1</td>\n",
       "      <td>NaN</td>\n",
       "      <td>affection</td>\n",
       "    </tr>\n",
       "  </tbody>\n",
       "</table>\n",
       "</div>"
      ],
      "text/plain": [
       "    hmid   wid reflection_period  \\\n",
       "0  27673  2053               24h   \n",
       "1  27674     2               24h   \n",
       "2  27675  1936               24h   \n",
       "3  27676   206               24h   \n",
       "4  27677  6227               24h   \n",
       "\n",
       "                                         original_hm  \\\n",
       "0  I went on a successful date with someone I fel...   \n",
       "1  I was happy when my son got 90% marks in his e...   \n",
       "2       I went to the gym this morning and did yoga.   \n",
       "3  We had a serious talk with some friends of our...   \n",
       "4  I went with grandchildren to butterfly display...   \n",
       "\n",
       "                                          cleaned_hm  modified  num_sentence  \\\n",
       "0  I went on a successful date with someone I fel...      True             1   \n",
       "1  I was happy when my son got 90% marks in his e...      True             1   \n",
       "2       I went to the gym this morning and did yoga.      True             1   \n",
       "3  We had a serious talk with some friends of our...      True             2   \n",
       "4  I went with grandchildren to butterfly display...      True             1   \n",
       "\n",
       "  ground_truth_category predicted_category  \n",
       "0                   NaN          affection  \n",
       "1                   NaN          affection  \n",
       "2                   NaN           exercise  \n",
       "3               bonding            bonding  \n",
       "4                   NaN          affection  "
      ]
     },
     "execution_count": 3,
     "metadata": {},
     "output_type": "execute_result"
    }
   ],
   "source": [
    "train.head()"
   ]
  },
  {
   "cell_type": "code",
   "execution_count": 66,
   "metadata": {},
   "outputs": [
    {
     "data": {
      "text/html": [
       "<div>\n",
       "<style scoped>\n",
       "    .dataframe tbody tr th:only-of-type {\n",
       "        vertical-align: middle;\n",
       "    }\n",
       "\n",
       "    .dataframe tbody tr th {\n",
       "        vertical-align: top;\n",
       "    }\n",
       "\n",
       "    .dataframe thead th {\n",
       "        text-align: right;\n",
       "    }\n",
       "</style>\n",
       "<table border=\"1\" class=\"dataframe\">\n",
       "  <thead>\n",
       "    <tr style=\"text-align: right;\">\n",
       "      <th></th>\n",
       "      <th>hmid</th>\n",
       "      <th>wid</th>\n",
       "      <th>num_sentence</th>\n",
       "    </tr>\n",
       "  </thead>\n",
       "  <tbody>\n",
       "    <tr>\n",
       "      <th>count</th>\n",
       "      <td>100535.000000</td>\n",
       "      <td>100535.000000</td>\n",
       "      <td>100535.000000</td>\n",
       "    </tr>\n",
       "    <tr>\n",
       "      <th>mean</th>\n",
       "      <td>78213.756722</td>\n",
       "      <td>2746.619028</td>\n",
       "      <td>1.340767</td>\n",
       "    </tr>\n",
       "    <tr>\n",
       "      <th>std</th>\n",
       "      <td>29178.959001</td>\n",
       "      <td>3535.010347</td>\n",
       "      <td>1.297159</td>\n",
       "    </tr>\n",
       "    <tr>\n",
       "      <th>min</th>\n",
       "      <td>27673.000000</td>\n",
       "      <td>1.000000</td>\n",
       "      <td>1.000000</td>\n",
       "    </tr>\n",
       "    <tr>\n",
       "      <th>25%</th>\n",
       "      <td>52941.500000</td>\n",
       "      <td>410.000000</td>\n",
       "      <td>1.000000</td>\n",
       "    </tr>\n",
       "    <tr>\n",
       "      <th>50%</th>\n",
       "      <td>78204.000000</td>\n",
       "      <td>1125.000000</td>\n",
       "      <td>1.000000</td>\n",
       "    </tr>\n",
       "    <tr>\n",
       "      <th>75%</th>\n",
       "      <td>103490.500000</td>\n",
       "      <td>3507.000000</td>\n",
       "      <td>1.000000</td>\n",
       "    </tr>\n",
       "    <tr>\n",
       "      <th>max</th>\n",
       "      <td>128766.000000</td>\n",
       "      <td>13839.000000</td>\n",
       "      <td>69.000000</td>\n",
       "    </tr>\n",
       "  </tbody>\n",
       "</table>\n",
       "</div>"
      ],
      "text/plain": [
       "                hmid            wid   num_sentence\n",
       "count  100535.000000  100535.000000  100535.000000\n",
       "mean    78213.756722    2746.619028       1.340767\n",
       "std     29178.959001    3535.010347       1.297159\n",
       "min     27673.000000       1.000000       1.000000\n",
       "25%     52941.500000     410.000000       1.000000\n",
       "50%     78204.000000    1125.000000       1.000000\n",
       "75%    103490.500000    3507.000000       1.000000\n",
       "max    128766.000000   13839.000000      69.000000"
      ]
     },
     "execution_count": 66,
     "metadata": {},
     "output_type": "execute_result"
    }
   ],
   "source": [
    "train.describe()"
   ]
  },
  {
   "cell_type": "code",
   "execution_count": 4,
   "metadata": {},
   "outputs": [
    {
     "data": {
      "text/html": [
       "<div>\n",
       "<style scoped>\n",
       "    .dataframe tbody tr th:only-of-type {\n",
       "        vertical-align: middle;\n",
       "    }\n",
       "\n",
       "    .dataframe tbody tr th {\n",
       "        vertical-align: top;\n",
       "    }\n",
       "\n",
       "    .dataframe thead th {\n",
       "        text-align: right;\n",
       "    }\n",
       "</style>\n",
       "<table border=\"1\" class=\"dataframe\">\n",
       "  <thead>\n",
       "    <tr style=\"text-align: right;\">\n",
       "      <th></th>\n",
       "      <th>wid</th>\n",
       "      <th>age</th>\n",
       "      <th>country</th>\n",
       "      <th>gender</th>\n",
       "      <th>marital</th>\n",
       "      <th>parenthood</th>\n",
       "    </tr>\n",
       "  </thead>\n",
       "  <tbody>\n",
       "    <tr>\n",
       "      <th>0</th>\n",
       "      <td>1</td>\n",
       "      <td>37.0</td>\n",
       "      <td>USA</td>\n",
       "      <td>m</td>\n",
       "      <td>married</td>\n",
       "      <td>y</td>\n",
       "    </tr>\n",
       "    <tr>\n",
       "      <th>1</th>\n",
       "      <td>2</td>\n",
       "      <td>29.0</td>\n",
       "      <td>IND</td>\n",
       "      <td>m</td>\n",
       "      <td>married</td>\n",
       "      <td>y</td>\n",
       "    </tr>\n",
       "    <tr>\n",
       "      <th>2</th>\n",
       "      <td>3</td>\n",
       "      <td>25</td>\n",
       "      <td>IND</td>\n",
       "      <td>m</td>\n",
       "      <td>single</td>\n",
       "      <td>n</td>\n",
       "    </tr>\n",
       "    <tr>\n",
       "      <th>3</th>\n",
       "      <td>4</td>\n",
       "      <td>32</td>\n",
       "      <td>USA</td>\n",
       "      <td>m</td>\n",
       "      <td>married</td>\n",
       "      <td>y</td>\n",
       "    </tr>\n",
       "    <tr>\n",
       "      <th>4</th>\n",
       "      <td>5</td>\n",
       "      <td>29</td>\n",
       "      <td>USA</td>\n",
       "      <td>m</td>\n",
       "      <td>married</td>\n",
       "      <td>y</td>\n",
       "    </tr>\n",
       "  </tbody>\n",
       "</table>\n",
       "</div>"
      ],
      "text/plain": [
       "   wid   age country gender  marital parenthood\n",
       "0    1  37.0     USA      m  married          y\n",
       "1    2  29.0     IND      m  married          y\n",
       "2    3    25     IND      m   single          n\n",
       "3    4    32     USA      m  married          y\n",
       "4    5    29     USA      m  married          y"
      ]
     },
     "execution_count": 4,
     "metadata": {},
     "output_type": "execute_result"
    }
   ],
   "source": [
    "# import the data\n",
    "demo = pd.read_csv('demographic.csv')\n",
    "demo.head()"
   ]
  },
  {
   "cell_type": "code",
   "execution_count": 67,
   "metadata": {},
   "outputs": [
    {
     "data": {
      "text/html": [
       "<div>\n",
       "<style scoped>\n",
       "    .dataframe tbody tr th:only-of-type {\n",
       "        vertical-align: middle;\n",
       "    }\n",
       "\n",
       "    .dataframe tbody tr th {\n",
       "        vertical-align: top;\n",
       "    }\n",
       "\n",
       "    .dataframe thead th {\n",
       "        text-align: right;\n",
       "    }\n",
       "</style>\n",
       "<table border=\"1\" class=\"dataframe\">\n",
       "  <thead>\n",
       "    <tr style=\"text-align: right;\">\n",
       "      <th></th>\n",
       "      <th>wid</th>\n",
       "    </tr>\n",
       "  </thead>\n",
       "  <tbody>\n",
       "    <tr>\n",
       "      <th>count</th>\n",
       "      <td>10844.000000</td>\n",
       "    </tr>\n",
       "    <tr>\n",
       "      <th>mean</th>\n",
       "      <td>6411.012726</td>\n",
       "    </tr>\n",
       "    <tr>\n",
       "      <th>std</th>\n",
       "      <td>4075.946830</td>\n",
       "    </tr>\n",
       "    <tr>\n",
       "      <th>min</th>\n",
       "      <td>1.000000</td>\n",
       "    </tr>\n",
       "    <tr>\n",
       "      <th>25%</th>\n",
       "      <td>2747.750000</td>\n",
       "    </tr>\n",
       "    <tr>\n",
       "      <th>50%</th>\n",
       "      <td>6107.500000</td>\n",
       "    </tr>\n",
       "    <tr>\n",
       "      <th>75%</th>\n",
       "      <td>9982.250000</td>\n",
       "    </tr>\n",
       "    <tr>\n",
       "      <th>max</th>\n",
       "      <td>13839.000000</td>\n",
       "    </tr>\n",
       "  </tbody>\n",
       "</table>\n",
       "</div>"
      ],
      "text/plain": [
       "                wid\n",
       "count  10844.000000\n",
       "mean    6411.012726\n",
       "std     4075.946830\n",
       "min        1.000000\n",
       "25%     2747.750000\n",
       "50%     6107.500000\n",
       "75%     9982.250000\n",
       "max    13839.000000"
      ]
     },
     "execution_count": 67,
     "metadata": {},
     "output_type": "execute_result"
    }
   ],
   "source": [
    "demo.describe()"
   ]
  },
  {
   "cell_type": "code",
   "execution_count": 5,
   "metadata": {},
   "outputs": [
    {
     "data": {
      "text/plain": [
       "count    100535.000000\n",
       "mean         18.298503\n",
       "std          21.474146\n",
       "min           2.000000\n",
       "25%           9.000000\n",
       "50%          14.000000\n",
       "75%          21.000000\n",
       "max        1179.000000\n",
       "Name: cleaned_hm, dtype: float64"
      ]
     },
     "execution_count": 5,
     "metadata": {},
     "output_type": "execute_result"
    }
   ],
   "source": [
    "#explore the data\n",
    "df_data = train[train['cleaned_hm'].notnull()]\n",
    "len_count = df_data['cleaned_hm'].apply(lambda x: len(x.split()))\n",
    "len_count.describe()"
   ]
  },
  {
   "cell_type": "markdown",
   "metadata": {},
   "source": [
    "## Part1: Deal with the gender classification."
   ]
  },
  {
   "cell_type": "code",
   "execution_count": 6,
   "metadata": {},
   "outputs": [
    {
     "data": {
      "text/html": [
       "<div>\n",
       "<style scoped>\n",
       "    .dataframe tbody tr th:only-of-type {\n",
       "        vertical-align: middle;\n",
       "    }\n",
       "\n",
       "    .dataframe tbody tr th {\n",
       "        vertical-align: top;\n",
       "    }\n",
       "\n",
       "    .dataframe thead th {\n",
       "        text-align: right;\n",
       "    }\n",
       "</style>\n",
       "<table border=\"1\" class=\"dataframe\">\n",
       "  <thead>\n",
       "    <tr style=\"text-align: right;\">\n",
       "      <th></th>\n",
       "      <th>cleaned_hm</th>\n",
       "      <th>gender</th>\n",
       "    </tr>\n",
       "  </thead>\n",
       "  <tbody>\n",
       "    <tr>\n",
       "      <th>93</th>\n",
       "      <td>I went to the gym this morning and did yoga.</td>\n",
       "      <td>f</td>\n",
       "    </tr>\n",
       "    <tr>\n",
       "      <th>94</th>\n",
       "      <td>My husband passed his DOT physical and I don't...</td>\n",
       "      <td>f</td>\n",
       "    </tr>\n",
       "    <tr>\n",
       "      <th>95</th>\n",
       "      <td>I went to bible study tonight with special nee...</td>\n",
       "      <td>f</td>\n",
       "    </tr>\n",
       "    <tr>\n",
       "      <th>96</th>\n",
       "      <td>I lost 5 pounds which is awesome considering I...</td>\n",
       "      <td>f</td>\n",
       "    </tr>\n",
       "    <tr>\n",
       "      <th>97</th>\n",
       "      <td>My husband started working more after having h...</td>\n",
       "      <td>f</td>\n",
       "    </tr>\n",
       "  </tbody>\n",
       "</table>\n",
       "</div>"
      ],
      "text/plain": [
       "                                           cleaned_hm gender\n",
       "93       I went to the gym this morning and did yoga.      f\n",
       "94  My husband passed his DOT physical and I don't...      f\n",
       "95  I went to bible study tonight with special nee...      f\n",
       "96  I lost 5 pounds which is awesome considering I...      f\n",
       "97  My husband started working more after having h...      f"
      ]
     },
     "execution_count": 6,
     "metadata": {},
     "output_type": "execute_result"
    }
   ],
   "source": [
    "#merge two datasets and identify the author's gender for each happy moment\n",
    "merge_data = pd.merge(df_data, demo, on='wid')\n",
    "gender_data = merge_data[['cleaned_hm', 'gender']]\n",
    "gender_data[gender_data['gender'] == \"f\"].head()"
   ]
  },
  {
   "cell_type": "code",
   "execution_count": 68,
   "metadata": {},
   "outputs": [
    {
     "data": {
      "text/html": [
       "<div>\n",
       "<style scoped>\n",
       "    .dataframe tbody tr th:only-of-type {\n",
       "        vertical-align: middle;\n",
       "    }\n",
       "\n",
       "    .dataframe tbody tr th {\n",
       "        vertical-align: top;\n",
       "    }\n",
       "\n",
       "    .dataframe thead th {\n",
       "        text-align: right;\n",
       "    }\n",
       "</style>\n",
       "<table border=\"1\" class=\"dataframe\">\n",
       "  <thead>\n",
       "    <tr style=\"text-align: right;\">\n",
       "      <th></th>\n",
       "      <th>hmid</th>\n",
       "      <th>wid</th>\n",
       "      <th>num_sentence</th>\n",
       "    </tr>\n",
       "  </thead>\n",
       "  <tbody>\n",
       "    <tr>\n",
       "      <th>count</th>\n",
       "      <td>100535.000000</td>\n",
       "      <td>100535.000000</td>\n",
       "      <td>100535.000000</td>\n",
       "    </tr>\n",
       "    <tr>\n",
       "      <th>mean</th>\n",
       "      <td>78213.756722</td>\n",
       "      <td>2746.619028</td>\n",
       "      <td>1.340767</td>\n",
       "    </tr>\n",
       "    <tr>\n",
       "      <th>std</th>\n",
       "      <td>29178.959001</td>\n",
       "      <td>3535.010347</td>\n",
       "      <td>1.297159</td>\n",
       "    </tr>\n",
       "    <tr>\n",
       "      <th>min</th>\n",
       "      <td>27673.000000</td>\n",
       "      <td>1.000000</td>\n",
       "      <td>1.000000</td>\n",
       "    </tr>\n",
       "    <tr>\n",
       "      <th>25%</th>\n",
       "      <td>52941.500000</td>\n",
       "      <td>410.000000</td>\n",
       "      <td>1.000000</td>\n",
       "    </tr>\n",
       "    <tr>\n",
       "      <th>50%</th>\n",
       "      <td>78204.000000</td>\n",
       "      <td>1125.000000</td>\n",
       "      <td>1.000000</td>\n",
       "    </tr>\n",
       "    <tr>\n",
       "      <th>75%</th>\n",
       "      <td>103490.500000</td>\n",
       "      <td>3507.000000</td>\n",
       "      <td>1.000000</td>\n",
       "    </tr>\n",
       "    <tr>\n",
       "      <th>max</th>\n",
       "      <td>128766.000000</td>\n",
       "      <td>13839.000000</td>\n",
       "      <td>69.000000</td>\n",
       "    </tr>\n",
       "  </tbody>\n",
       "</table>\n",
       "</div>"
      ],
      "text/plain": [
       "                hmid            wid   num_sentence\n",
       "count  100535.000000  100535.000000  100535.000000\n",
       "mean    78213.756722    2746.619028       1.340767\n",
       "std     29178.959001    3535.010347       1.297159\n",
       "min     27673.000000       1.000000       1.000000\n",
       "25%     52941.500000     410.000000       1.000000\n",
       "50%     78204.000000    1125.000000       1.000000\n",
       "75%    103490.500000    3507.000000       1.000000\n",
       "max    128766.000000   13839.000000      69.000000"
      ]
     },
     "execution_count": 68,
     "metadata": {},
     "output_type": "execute_result"
    }
   ],
   "source": [
    "merge_data.describe()"
   ]
  },
  {
   "cell_type": "code",
   "execution_count": 7,
   "metadata": {},
   "outputs": [
    {
     "data": {
      "text/html": [
       "<div>\n",
       "<style scoped>\n",
       "    .dataframe tbody tr th:only-of-type {\n",
       "        vertical-align: middle;\n",
       "    }\n",
       "\n",
       "    .dataframe tbody tr th {\n",
       "        vertical-align: top;\n",
       "    }\n",
       "\n",
       "    .dataframe thead th {\n",
       "        text-align: right;\n",
       "    }\n",
       "</style>\n",
       "<table border=\"1\" class=\"dataframe\">\n",
       "  <thead>\n",
       "    <tr style=\"text-align: right;\">\n",
       "      <th></th>\n",
       "      <th>cleaned_hm</th>\n",
       "      <th>gender</th>\n",
       "    </tr>\n",
       "  </thead>\n",
       "  <tbody>\n",
       "    <tr>\n",
       "      <th>0</th>\n",
       "      <td>I went on a successful date with someone I fel...</td>\n",
       "      <td>m</td>\n",
       "    </tr>\n",
       "    <tr>\n",
       "      <th>1</th>\n",
       "      <td>I played a new game that was fun and got to en...</td>\n",
       "      <td>m</td>\n",
       "    </tr>\n",
       "    <tr>\n",
       "      <th>2</th>\n",
       "      <td>I listened to some music and heard an entire a...</td>\n",
       "      <td>m</td>\n",
       "    </tr>\n",
       "    <tr>\n",
       "      <th>3</th>\n",
       "      <td>Went to see a movie with my friend</td>\n",
       "      <td>m</td>\n",
       "    </tr>\n",
       "    <tr>\n",
       "      <th>4</th>\n",
       "      <td>Played guitar, learning a song on it</td>\n",
       "      <td>m</td>\n",
       "    </tr>\n",
       "  </tbody>\n",
       "</table>\n",
       "</div>"
      ],
      "text/plain": [
       "                                          cleaned_hm gender\n",
       "0  I went on a successful date with someone I fel...      m\n",
       "1  I played a new game that was fun and got to en...      m\n",
       "2  I listened to some music and heard an entire a...      m\n",
       "3                 Went to see a movie with my friend      m\n",
       "4               Played guitar, learning a song on it      m"
      ]
     },
     "execution_count": 7,
     "metadata": {},
     "output_type": "execute_result"
    }
   ],
   "source": [
    "gender_data[gender_data['gender'] == \"m\"].head()"
   ]
  },
  {
   "cell_type": "code",
   "execution_count": 8,
   "metadata": {},
   "outputs": [
    {
     "data": {
      "text/plain": [
       "<matplotlib.axes._subplots.AxesSubplot at 0x1a1f78cb70>"
      ]
     },
     "execution_count": 8,
     "metadata": {},
     "output_type": "execute_result"
    },
    {
     "data": {
      "image/png": "[encoded data removed]",
      "text/plain": [
       "<Figure size 432x288 with 1 Axes>"
      ]
     },
     "metadata": {
      "needs_background": "light"
     },
     "output_type": "display_data"
    }
   ],
   "source": [
    "gender_data.gender.value_counts().plot(kind='bar')"
   ]
  },
  {
   "cell_type": "code",
   "execution_count": 9,
   "metadata": {},
   "outputs": [
    {
     "name": "stdout",
     "output_type": "stream",
     "text": [
      "Happy moments written by male/female: 99759\n"
     ]
    }
   ],
   "source": [
    "#clean the data and leave happy moments whose gender is either male or female\n",
    "gender_bin_data = gender_data[(gender_data['gender'] == 'm') | (gender_data['gender'] == 'f')]\n",
    "\n",
    "print(\"Happy moments written by male/female: {}\".format(gender_bin_data['cleaned_hm'].size))"
   ]
  },
  {
   "cell_type": "code",
   "execution_count": 10,
   "metadata": {},
   "outputs": [
    {
     "data": {
      "text/html": [
       "<div>\n",
       "<style scoped>\n",
       "    .dataframe tbody tr th:only-of-type {\n",
       "        vertical-align: middle;\n",
       "    }\n",
       "\n",
       "    .dataframe tbody tr th {\n",
       "        vertical-align: top;\n",
       "    }\n",
       "\n",
       "    .dataframe thead th {\n",
       "        text-align: right;\n",
       "    }\n",
       "</style>\n",
       "<table border=\"1\" class=\"dataframe\">\n",
       "  <thead>\n",
       "    <tr style=\"text-align: right;\">\n",
       "      <th></th>\n",
       "      <th>cleaned_hm</th>\n",
       "      <th>gender</th>\n",
       "      <th>gender_bin</th>\n",
       "    </tr>\n",
       "  </thead>\n",
       "  <tbody>\n",
       "    <tr>\n",
       "      <th>0</th>\n",
       "      <td>I went on a successful date with someone I fel...</td>\n",
       "      <td>m</td>\n",
       "      <td>1</td>\n",
       "    </tr>\n",
       "    <tr>\n",
       "      <th>1</th>\n",
       "      <td>I played a new game that was fun and got to en...</td>\n",
       "      <td>m</td>\n",
       "      <td>1</td>\n",
       "    </tr>\n",
       "    <tr>\n",
       "      <th>2</th>\n",
       "      <td>I listened to some music and heard an entire a...</td>\n",
       "      <td>m</td>\n",
       "      <td>1</td>\n",
       "    </tr>\n",
       "    <tr>\n",
       "      <th>3</th>\n",
       "      <td>Went to see a movie with my friend</td>\n",
       "      <td>m</td>\n",
       "      <td>1</td>\n",
       "    </tr>\n",
       "    <tr>\n",
       "      <th>4</th>\n",
       "      <td>Played guitar, learning a song on it</td>\n",
       "      <td>m</td>\n",
       "      <td>1</td>\n",
       "    </tr>\n",
       "  </tbody>\n",
       "</table>\n",
       "</div>"
      ],
      "text/plain": [
       "                                          cleaned_hm gender  gender_bin\n",
       "0  I went on a successful date with someone I fel...      m           1\n",
       "1  I played a new game that was fun and got to en...      m           1\n",
       "2  I listened to some music and heard an entire a...      m           1\n",
       "3                 Went to see a movie with my friend      m           1\n",
       "4               Played guitar, learning a song on it      m           1"
      ]
     },
     "execution_count": 10,
     "metadata": {},
     "output_type": "execute_result"
    }
   ],
   "source": [
    "#convert the representation of male and female into numbers\n",
    "gender_bin_data = gender_bin_data.assign(gender_bin=(np.where(gender_bin_data['gender']=='m', 1, 0)))\n",
    "\n",
    "gender_bin_data.head()"
   ]
  },
  {
   "cell_type": "code",
   "execution_count": 11,
   "metadata": {},
   "outputs": [
    {
     "data": {
      "text/html": [
       "<div>\n",
       "<style scoped>\n",
       "    .dataframe tbody tr th:only-of-type {\n",
       "        vertical-align: middle;\n",
       "    }\n",
       "\n",
       "    .dataframe tbody tr th {\n",
       "        vertical-align: top;\n",
       "    }\n",
       "\n",
       "    .dataframe thead th {\n",
       "        text-align: right;\n",
       "    }\n",
       "</style>\n",
       "<table border=\"1\" class=\"dataframe\">\n",
       "  <thead>\n",
       "    <tr style=\"text-align: right;\">\n",
       "      <th></th>\n",
       "      <th>cleaned_hm</th>\n",
       "      <th>gender</th>\n",
       "      <th>gender_bin</th>\n",
       "    </tr>\n",
       "  </thead>\n",
       "  <tbody>\n",
       "    <tr>\n",
       "      <th>0</th>\n",
       "      <td>I started to walk more around the office, meet...</td>\n",
       "      <td>f</td>\n",
       "      <td>0</td>\n",
       "    </tr>\n",
       "    <tr>\n",
       "      <th>1</th>\n",
       "      <td>I bought my mom a bonsai tree for Mother's Day...</td>\n",
       "      <td>f</td>\n",
       "      <td>0</td>\n",
       "    </tr>\n",
       "    <tr>\n",
       "      <th>2</th>\n",
       "      <td>I was able to plan out the next two months as ...</td>\n",
       "      <td>f</td>\n",
       "      <td>0</td>\n",
       "    </tr>\n",
       "    <tr>\n",
       "      <th>3</th>\n",
       "      <td>I had dinner with coworkers who were leaving e...</td>\n",
       "      <td>f</td>\n",
       "      <td>0</td>\n",
       "    </tr>\n",
       "    <tr>\n",
       "      <th>4</th>\n",
       "      <td>I bought presents for my nieces for their home...</td>\n",
       "      <td>f</td>\n",
       "      <td>0</td>\n",
       "    </tr>\n",
       "  </tbody>\n",
       "</table>\n",
       "</div>"
      ],
      "text/plain": [
       "                                          cleaned_hm gender  gender_bin\n",
       "0  I started to walk more around the office, meet...      f           0\n",
       "1  I bought my mom a bonsai tree for Mother's Day...      f           0\n",
       "2  I was able to plan out the next two months as ...      f           0\n",
       "3  I had dinner with coworkers who were leaving e...      f           0\n",
       "4  I bought presents for my nieces for their home...      f           0"
      ]
     },
     "execution_count": 11,
     "metadata": {},
     "output_type": "execute_result"
    }
   ],
   "source": [
    "#split the data to train and test\n",
    "hm_size = gender_bin_data['cleaned_hm'].size\n",
    "num_train_hm = int(0.7 * gender_bin_data['cleaned_hm'].size)\n",
    "\n",
    "train_hm = gender_bin_data.iloc[0:num_train_hm]\n",
    "test_hm = gender_bin_data.iloc[num_train_hm:hm_size]\n",
    "test_hm = test_hm.reset_index(drop=True)\n",
    "\n",
    "test_hm.head()\n"
   ]
  },
  {
   "cell_type": "code",
   "execution_count": 12,
   "metadata": {},
   "outputs": [],
   "source": [
    "def clean_up_texts(hm_data):\n",
    "    prepro_hm = []\n",
    "    stops = set(stopwords.words(\"english\"))\n",
    "    for i in range(0, hm_data['cleaned_hm'].size):\n",
    "        # Remove non-english words, including punctuations and numbers\n",
    "        letters = re.sub(\"[^a-zA-Z]\", \" \", str(hm_data.iloc[i]['cleaned_hm']))\n",
    "\n",
    "        # Convert all words to lower case\n",
    "        lower_words = letters.lower()\n",
    "\n",
    "        # Tokenize the sentences\n",
    "        tokens = lower_words.split()\n",
    "\n",
    "        # Reconstruct the processed tokens into a string\n",
    "        prepro_string = \" \".join(tokens)\n",
    "\n",
    "        prepro_hm.append(prepro_string)\n",
    "        \n",
    "    return prepro_hm\n",
    "    \n"
   ]
  },
  {
   "cell_type": "code",
   "execution_count": 13,
   "metadata": {},
   "outputs": [
    {
     "name": "stdout",
     "output_type": "stream",
     "text": [
      "Texts cleaned up! \n",
      "\n"
     ]
    }
   ],
   "source": [
    "# clean data and delete all stop words\n",
    "prepro_train = clean_up_texts(train_hm)\n",
    "prepro_test = clean_up_texts(test_hm)\n",
    "print(\"Texts cleaned up! \\n\")"
   ]
  },
  {
   "cell_type": "code",
   "execution_count": 14,
   "metadata": {},
   "outputs": [
    {
     "data": {
      "text/plain": [
       "['i went on a successful date with someone i felt sympathy and connection with',\n",
       " 'i played a new game that was fun and got to enjoy the mechanics of it',\n",
       " 'i listened to some music and heard an entire album i hadn t heard more than once before',\n",
       " 'went to see a movie with my friend',\n",
       " 'played guitar learning a song on it',\n",
       " 'talked to my romantic prospect',\n",
       " 'i played a game for about half an hour',\n",
       " 'i discovered another album i hadn t heard by a band i recently got into',\n",
       " 'i talked to the girl i m dating about some interesting topics',\n",
       " 'i was happy when my son got marks in his examination']"
      ]
     },
     "execution_count": 14,
     "metadata": {},
     "output_type": "execute_result"
    }
   ],
   "source": [
    "prepro_train[:10]"
   ]
  },
  {
   "cell_type": "code",
   "execution_count": 18,
   "metadata": {},
   "outputs": [
    {
     "name": "stdout",
     "output_type": "stream",
     "text": [
      "Dimension of the training data: (69831, 20737)\n"
     ]
    }
   ],
   "source": [
    "# Feature selection, use the bag of words model, create a dictionary based on the input strings\n",
    "from sklearn.feature_extraction.text import TfidfTransformer\n",
    "vectorizer = CountVectorizer(analyzer = \"word\")\n",
    "features_train_hm = vectorizer.fit_transform(prepro_train)\n",
    "tf_transformer = TfidfTransformer(use_idf=False).fit(features_train_hm)\n",
    "features_train_hm_tf = tf_transformer.transform(features_train_hm)\n",
    "train_array_hm = features_train_hm_tf.toarray()\n",
    "print(\"Dimension of the training data: {}\".format(train_array_hm.shape))"
   ]
  },
  {
   "cell_type": "code",
   "execution_count": 19,
   "metadata": {},
   "outputs": [
    {
     "name": "stdout",
     "output_type": "stream",
     "text": [
      "Dimension of the test data: (29928, 20737)\n"
     ]
    }
   ],
   "source": [
    "features_test_hm = vectorizer.transform(prepro_test)\n",
    "tf_transformer = TfidfTransformer(use_idf=False).fit(features_test_hm)\n",
    "features_test_hm_tf = tf_transformer.transform(features_test_hm)\n",
    "test_array_hm = features_test_hm_tf.toarray()\n",
    "print(\"Dimension of the test data: {}\".format(test_array_hm.shape))"
   ]
  },
  {
   "cell_type": "code",
   "execution_count": 21,
   "metadata": {},
   "outputs": [
    {
     "name": "stderr",
     "output_type": "stream",
     "text": [
      "/Users/lumin/anaconda3/lib/python3.7/site-packages/sklearn/linear_model/stochastic_gradient.py:183: FutureWarning: max_iter and tol parameters have been added in SGDClassifier in 0.19. If max_iter is set but tol is left unset, the default value for tol in 0.19 and 0.20 will be None (which is equivalent to -infinity, so it has no effect) but will change in 0.21 to 1e-3. Specify tol to silence this warning.\n",
      "  FutureWarning)\n"
     ]
    },
    {
     "name": "stdout",
     "output_type": "stream",
     "text": [
      "0.62085672280139\n"
     ]
    }
   ],
   "source": [
    "#train the SGDClassifier model and implement on the test data. Then evaluate the predication.\n",
    "from sklearn.linear_model import SGDClassifier\n",
    "from sklearn import metrics\n",
    "clf = SGDClassifier(loss=\"log\", penalty=\"l1\", max_iter=10)\n",
    "clf = clf.fit(train_array_hm, train_hm['gender_bin'])\n",
    "predictions = clf.predict(test_array_hm)\n",
    "print(metrics.accuracy_score(test_hm['gender_bin'], predictions))"
   ]
  },
  {
   "cell_type": "markdown",
   "metadata": {},
   "source": [
    "## Part2: Deal with the parenthood classification."
   ]
  },
  {
   "cell_type": "code",
   "execution_count": 22,
   "metadata": {},
   "outputs": [
    {
     "data": {
      "text/html": [
       "<div>\n",
       "<style scoped>\n",
       "    .dataframe tbody tr th:only-of-type {\n",
       "        vertical-align: middle;\n",
       "    }\n",
       "\n",
       "    .dataframe tbody tr th {\n",
       "        vertical-align: top;\n",
       "    }\n",
       "\n",
       "    .dataframe thead th {\n",
       "        text-align: right;\n",
       "    }\n",
       "</style>\n",
       "<table border=\"1\" class=\"dataframe\">\n",
       "  <thead>\n",
       "    <tr style=\"text-align: right;\">\n",
       "      <th></th>\n",
       "      <th>cleaned_hm</th>\n",
       "      <th>parenthood</th>\n",
       "    </tr>\n",
       "  </thead>\n",
       "  <tbody>\n",
       "    <tr>\n",
       "      <th>0</th>\n",
       "      <td>I went on a successful date with someone I fel...</td>\n",
       "      <td>n</td>\n",
       "    </tr>\n",
       "    <tr>\n",
       "      <th>1</th>\n",
       "      <td>I played a new game that was fun and got to en...</td>\n",
       "      <td>n</td>\n",
       "    </tr>\n",
       "    <tr>\n",
       "      <th>2</th>\n",
       "      <td>I listened to some music and heard an entire a...</td>\n",
       "      <td>n</td>\n",
       "    </tr>\n",
       "    <tr>\n",
       "      <th>3</th>\n",
       "      <td>Went to see a movie with my friend</td>\n",
       "      <td>n</td>\n",
       "    </tr>\n",
       "    <tr>\n",
       "      <th>4</th>\n",
       "      <td>Played guitar, learning a song on it</td>\n",
       "      <td>n</td>\n",
       "    </tr>\n",
       "  </tbody>\n",
       "</table>\n",
       "</div>"
      ],
      "text/plain": [
       "                                          cleaned_hm parenthood\n",
       "0  I went on a successful date with someone I fel...          n\n",
       "1  I played a new game that was fun and got to en...          n\n",
       "2  I listened to some music and heard an entire a...          n\n",
       "3                 Went to see a movie with my friend          n\n",
       "4               Played guitar, learning a song on it          n"
      ]
     },
     "execution_count": 22,
     "metadata": {},
     "output_type": "execute_result"
    }
   ],
   "source": [
    "#identify the author's parenthood for each happy moment\n",
    "parent_data = merge_data[['cleaned_hm', 'parenthood']]\n",
    "parent_data.head()"
   ]
  },
  {
   "cell_type": "code",
   "execution_count": 23,
   "metadata": {},
   "outputs": [
    {
     "data": {
      "text/html": [
       "<div>\n",
       "<style scoped>\n",
       "    .dataframe tbody tr th:only-of-type {\n",
       "        vertical-align: middle;\n",
       "    }\n",
       "\n",
       "    .dataframe tbody tr th {\n",
       "        vertical-align: top;\n",
       "    }\n",
       "\n",
       "    .dataframe thead th {\n",
       "        text-align: right;\n",
       "    }\n",
       "</style>\n",
       "<table border=\"1\" class=\"dataframe\">\n",
       "  <thead>\n",
       "    <tr style=\"text-align: right;\">\n",
       "      <th></th>\n",
       "      <th>cleaned_hm</th>\n",
       "      <th>parenthood</th>\n",
       "    </tr>\n",
       "  </thead>\n",
       "  <tbody>\n",
       "    <tr>\n",
       "      <th>count</th>\n",
       "      <td>100535</td>\n",
       "      <td>100457</td>\n",
       "    </tr>\n",
       "    <tr>\n",
       "      <th>unique</th>\n",
       "      <td>96486</td>\n",
       "      <td>2</td>\n",
       "    </tr>\n",
       "    <tr>\n",
       "      <th>top</th>\n",
       "      <td>I WENT TO TEMPLE</td>\n",
       "      <td>n</td>\n",
       "    </tr>\n",
       "    <tr>\n",
       "      <th>freq</th>\n",
       "      <td>120</td>\n",
       "      <td>60937</td>\n",
       "    </tr>\n",
       "  </tbody>\n",
       "</table>\n",
       "</div>"
      ],
      "text/plain": [
       "              cleaned_hm parenthood\n",
       "count             100535     100457\n",
       "unique             96486          2\n",
       "top     I WENT TO TEMPLE          n\n",
       "freq                 120      60937"
      ]
     },
     "execution_count": 23,
     "metadata": {},
     "output_type": "execute_result"
    }
   ],
   "source": [
    "parent_data.describe()"
   ]
  },
  {
   "cell_type": "code",
   "execution_count": 24,
   "metadata": {},
   "outputs": [
    {
     "data": {
      "text/plain": [
       "<matplotlib.axes._subplots.AxesSubplot at 0x1a1cbb7b00>"
      ]
     },
     "execution_count": 24,
     "metadata": {},
     "output_type": "execute_result"
    },
    {
     "data": {
      "image/png": "[encoded data removed]",
      "text/plain": [
       "<Figure size 432x288 with 1 Axes>"
      ]
     },
     "metadata": {
      "needs_background": "light"
     },
     "output_type": "display_data"
    }
   ],
   "source": [
    "parent_data.parenthood.value_counts().plot(kind='bar')"
   ]
  },
  {
   "cell_type": "code",
   "execution_count": 25,
   "metadata": {},
   "outputs": [
    {
     "data": {
      "text/html": [
       "<div>\n",
       "<style scoped>\n",
       "    .dataframe tbody tr th:only-of-type {\n",
       "        vertical-align: middle;\n",
       "    }\n",
       "\n",
       "    .dataframe tbody tr th {\n",
       "        vertical-align: top;\n",
       "    }\n",
       "\n",
       "    .dataframe thead th {\n",
       "        text-align: right;\n",
       "    }\n",
       "</style>\n",
       "<table border=\"1\" class=\"dataframe\">\n",
       "  <thead>\n",
       "    <tr style=\"text-align: right;\">\n",
       "      <th></th>\n",
       "      <th>cleaned_hm</th>\n",
       "      <th>parenthood</th>\n",
       "    </tr>\n",
       "  </thead>\n",
       "  <tbody>\n",
       "    <tr>\n",
       "      <th>0</th>\n",
       "      <td>I went on a successful date with someone I fel...</td>\n",
       "      <td>n</td>\n",
       "    </tr>\n",
       "    <tr>\n",
       "      <th>1</th>\n",
       "      <td>I played a new game that was fun and got to en...</td>\n",
       "      <td>n</td>\n",
       "    </tr>\n",
       "    <tr>\n",
       "      <th>2</th>\n",
       "      <td>I listened to some music and heard an entire a...</td>\n",
       "      <td>n</td>\n",
       "    </tr>\n",
       "    <tr>\n",
       "      <th>3</th>\n",
       "      <td>Went to see a movie with my friend</td>\n",
       "      <td>n</td>\n",
       "    </tr>\n",
       "    <tr>\n",
       "      <th>4</th>\n",
       "      <td>Played guitar, learning a song on it</td>\n",
       "      <td>n</td>\n",
       "    </tr>\n",
       "  </tbody>\n",
       "</table>\n",
       "</div>"
      ],
      "text/plain": [
       "                                          cleaned_hm parenthood\n",
       "0  I went on a successful date with someone I fel...          n\n",
       "1  I played a new game that was fun and got to en...          n\n",
       "2  I listened to some music and heard an entire a...          n\n",
       "3                 Went to see a movie with my friend          n\n",
       "4               Played guitar, learning a song on it          n"
      ]
     },
     "execution_count": 25,
     "metadata": {},
     "output_type": "execute_result"
    }
   ],
   "source": [
    "parent_data[parent_data['parenthood'] == \"n\"][:5]"
   ]
  },
  {
   "cell_type": "code",
   "execution_count": 26,
   "metadata": {},
   "outputs": [
    {
     "name": "stdout",
     "output_type": "stream",
     "text": [
      "Happy moments written by people who has/doesn't has kids: 100457\n"
     ]
    }
   ],
   "source": [
    "#clean the data and leave happy moments whose parenthood is either yes or not\n",
    "parent_bin_data = parent_data[(parent_data['parenthood'] == 'y') | (parent_data['parenthood'] == 'n')]\n",
    "\n",
    "print(\"Happy moments written by people who has/doesn't has kids: {}\".format(parent_bin_data['cleaned_hm'].size))"
   ]
  },
  {
   "cell_type": "code",
   "execution_count": 27,
   "metadata": {},
   "outputs": [
    {
     "data": {
      "text/html": [
       "<div>\n",
       "<style scoped>\n",
       "    .dataframe tbody tr th:only-of-type {\n",
       "        vertical-align: middle;\n",
       "    }\n",
       "\n",
       "    .dataframe tbody tr th {\n",
       "        vertical-align: top;\n",
       "    }\n",
       "\n",
       "    .dataframe thead th {\n",
       "        text-align: right;\n",
       "    }\n",
       "</style>\n",
       "<table border=\"1\" class=\"dataframe\">\n",
       "  <thead>\n",
       "    <tr style=\"text-align: right;\">\n",
       "      <th></th>\n",
       "      <th>cleaned_hm</th>\n",
       "      <th>parenthood</th>\n",
       "      <th>parent_bin</th>\n",
       "    </tr>\n",
       "  </thead>\n",
       "  <tbody>\n",
       "    <tr>\n",
       "      <th>0</th>\n",
       "      <td>I went on a successful date with someone I fel...</td>\n",
       "      <td>n</td>\n",
       "      <td>0</td>\n",
       "    </tr>\n",
       "    <tr>\n",
       "      <th>1</th>\n",
       "      <td>I played a new game that was fun and got to en...</td>\n",
       "      <td>n</td>\n",
       "      <td>0</td>\n",
       "    </tr>\n",
       "    <tr>\n",
       "      <th>2</th>\n",
       "      <td>I listened to some music and heard an entire a...</td>\n",
       "      <td>n</td>\n",
       "      <td>0</td>\n",
       "    </tr>\n",
       "    <tr>\n",
       "      <th>3</th>\n",
       "      <td>Went to see a movie with my friend</td>\n",
       "      <td>n</td>\n",
       "      <td>0</td>\n",
       "    </tr>\n",
       "    <tr>\n",
       "      <th>4</th>\n",
       "      <td>Played guitar, learning a song on it</td>\n",
       "      <td>n</td>\n",
       "      <td>0</td>\n",
       "    </tr>\n",
       "  </tbody>\n",
       "</table>\n",
       "</div>"
      ],
      "text/plain": [
       "                                          cleaned_hm parenthood  parent_bin\n",
       "0  I went on a successful date with someone I fel...          n           0\n",
       "1  I played a new game that was fun and got to en...          n           0\n",
       "2  I listened to some music and heard an entire a...          n           0\n",
       "3                 Went to see a movie with my friend          n           0\n",
       "4               Played guitar, learning a song on it          n           0"
      ]
     },
     "execution_count": 27,
     "metadata": {},
     "output_type": "execute_result"
    }
   ],
   "source": [
    "#convert the representation of parenthood into numbers\n",
    "parent_bin_data = parent_bin_data.assign(parent_bin=(np.where(parent_bin_data['parenthood']=='y', 1, 0)))\n",
    "\n",
    "parent_bin_data[:5]"
   ]
  },
  {
   "cell_type": "code",
   "execution_count": 28,
   "metadata": {},
   "outputs": [
    {
     "data": {
      "text/html": [
       "<div>\n",
       "<style scoped>\n",
       "    .dataframe tbody tr th:only-of-type {\n",
       "        vertical-align: middle;\n",
       "    }\n",
       "\n",
       "    .dataframe tbody tr th {\n",
       "        vertical-align: top;\n",
       "    }\n",
       "\n",
       "    .dataframe thead th {\n",
       "        text-align: right;\n",
       "    }\n",
       "</style>\n",
       "<table border=\"1\" class=\"dataframe\">\n",
       "  <thead>\n",
       "    <tr style=\"text-align: right;\">\n",
       "      <th></th>\n",
       "      <th>cleaned_hm</th>\n",
       "      <th>parenthood</th>\n",
       "      <th>parent_bin</th>\n",
       "    </tr>\n",
       "  </thead>\n",
       "  <tbody>\n",
       "    <tr>\n",
       "      <th>0</th>\n",
       "      <td>My fiance bought me 2 bottles of wine.</td>\n",
       "      <td>y</td>\n",
       "      <td>1</td>\n",
       "    </tr>\n",
       "    <tr>\n",
       "      <th>1</th>\n",
       "      <td>I found a note my deceased mother had written ...</td>\n",
       "      <td>y</td>\n",
       "      <td>1</td>\n",
       "    </tr>\n",
       "    <tr>\n",
       "      <th>2</th>\n",
       "      <td>I saw my niece for the first time, ever.</td>\n",
       "      <td>y</td>\n",
       "      <td>1</td>\n",
       "    </tr>\n",
       "    <tr>\n",
       "      <th>3</th>\n",
       "      <td>My fiance made me a pair of crown headphones.</td>\n",
       "      <td>y</td>\n",
       "      <td>1</td>\n",
       "    </tr>\n",
       "    <tr>\n",
       "      <th>4</th>\n",
       "      <td>My fiance cooked a full course dinner for me</td>\n",
       "      <td>y</td>\n",
       "      <td>1</td>\n",
       "    </tr>\n",
       "  </tbody>\n",
       "</table>\n",
       "</div>"
      ],
      "text/plain": [
       "                                          cleaned_hm parenthood  parent_bin\n",
       "0             My fiance bought me 2 bottles of wine.          y           1\n",
       "1  I found a note my deceased mother had written ...          y           1\n",
       "2           I saw my niece for the first time, ever.          y           1\n",
       "3      My fiance made me a pair of crown headphones.          y           1\n",
       "4       My fiance cooked a full course dinner for me          y           1"
      ]
     },
     "execution_count": 28,
     "metadata": {},
     "output_type": "execute_result"
    }
   ],
   "source": [
    "#split the data to train and test\n",
    "\n",
    "parenthm_size = parent_bin_data['cleaned_hm'].size\n",
    "num_train_parenthm = int(0.7 * parent_bin_data['cleaned_hm'].size)\n",
    "\n",
    "train_parenthm = parent_bin_data.iloc[0:num_train_parenthm]\n",
    "test_parenthm = parent_bin_data.iloc[num_train_parenthm:parenthm_size]\n",
    "test_parenthm = test_parenthm.reset_index(drop=True)\n",
    "\n",
    "test_parenthm.head()"
   ]
  },
  {
   "cell_type": "code",
   "execution_count": 29,
   "metadata": {},
   "outputs": [
    {
     "name": "stdout",
     "output_type": "stream",
     "text": [
      "Texts cleaned up! \n",
      "\n"
     ]
    }
   ],
   "source": [
    "# clean data and delete all stop words\n",
    "prepro_train_parent = clean_up_texts(train_parenthm)\n",
    "prepro_test_parent = clean_up_texts(test_parenthm)\n",
    "print(\"Texts cleaned up! \\n\")"
   ]
  },
  {
   "cell_type": "code",
   "execution_count": 30,
   "metadata": {},
   "outputs": [
    {
     "data": {
      "text/plain": [
       "['i went on a successful date with someone i felt sympathy and connection with',\n",
       " 'i played a new game that was fun and got to enjoy the mechanics of it',\n",
       " 'i listened to some music and heard an entire album i hadn t heard more than once before',\n",
       " 'went to see a movie with my friend',\n",
       " 'played guitar learning a song on it',\n",
       " 'talked to my romantic prospect',\n",
       " 'i played a game for about half an hour',\n",
       " 'i discovered another album i hadn t heard by a band i recently got into',\n",
       " 'i talked to the girl i m dating about some interesting topics',\n",
       " 'i was happy when my son got marks in his examination']"
      ]
     },
     "execution_count": 30,
     "metadata": {},
     "output_type": "execute_result"
    }
   ],
   "source": [
    "prepro_train_parent[:10]"
   ]
  },
  {
   "cell_type": "code",
   "execution_count": 31,
   "metadata": {},
   "outputs": [
    {
     "name": "stdout",
     "output_type": "stream",
     "text": [
      "Dimension of the training data: (70319, 20817)\n"
     ]
    }
   ],
   "source": [
    "# Feature selection, use the bag of words model, create a dictionary based on the input strings\n",
    "vectorizer = CountVectorizer(analyzer = \"word\")\n",
    "features_train_hm = vectorizer.fit_transform(prepro_train_parent)\n",
    "tf_transformer = TfidfTransformer(use_idf=False).fit(features_train_hm)\n",
    "features_train_hm_tf = tf_transformer.transform(features_train_hm)\n",
    "train_array_hm = features_train_hm_tf.toarray()\n",
    "print(\"Dimension of the training data: {}\".format(train_array_hm.shape))"
   ]
  },
  {
   "cell_type": "code",
   "execution_count": 32,
   "metadata": {},
   "outputs": [
    {
     "name": "stdout",
     "output_type": "stream",
     "text": [
      "Dimension of the test data: (30138, 20817)\n"
     ]
    }
   ],
   "source": [
    "features_test_hm = vectorizer.transform(prepro_test_parent)\n",
    "tf_transformer = TfidfTransformer(use_idf=False).fit(features_test_hm)\n",
    "features_test_hm_tf = tf_transformer.transform(features_test_hm)\n",
    "test_array_hm = features_test_hm_tf.toarray()\n",
    "print(\"Dimension of the test data: {}\".format(test_array_hm.shape))"
   ]
  },
  {
   "cell_type": "code",
   "execution_count": 33,
   "metadata": {},
   "outputs": [
    {
     "name": "stderr",
     "output_type": "stream",
     "text": [
      "/Users/lumin/anaconda3/lib/python3.7/site-packages/sklearn/linear_model/stochastic_gradient.py:183: FutureWarning: max_iter and tol parameters have been added in SGDClassifier in 0.19. If max_iter is set but tol is left unset, the default value for tol in 0.19 and 0.20 will be None (which is equivalent to -infinity, so it has no effect) but will change in 0.21 to 1e-3. Specify tol to silence this warning.\n",
      "  FutureWarning)\n"
     ]
    },
    {
     "name": "stdout",
     "output_type": "stream",
     "text": [
      "0.7183622005441636\n"
     ]
    }
   ],
   "source": [
    "#Train the SGDClassifier model and implement on the test data. Then evaluate the predication.\n",
    "clf = SGDClassifier(loss=\"log\", penalty=\"l1\", max_iter=10)\n",
    "clf = clf.fit(train_array_hm, train_parenthm['parent_bin'])\n",
    "predictions = clf.predict(test_array_hm)\n",
    "print(metrics.accuracy_score(test_parenthm['parent_bin'], predictions))"
   ]
  },
  {
   "cell_type": "code",
   "execution_count": 36,
   "metadata": {},
   "outputs": [
    {
     "name": "stderr",
     "output_type": "stream",
     "text": [
      "/Users/lumin/anaconda3/lib/python3.7/site-packages/sklearn/linear_model/logistic.py:433: FutureWarning: Default solver will be changed to 'lbfgs' in 0.22. Specify a solver to silence this warning.\n",
      "  FutureWarning)\n"
     ]
    },
    {
     "data": {
      "text/plain": [
       "0.7321776475774684"
      ]
     },
     "execution_count": 36,
     "metadata": {},
     "output_type": "execute_result"
    }
   ],
   "source": [
    "#Train the LogisticRegression model and implement on the test data. Then evaluate the predication.\n",
    "from sklearn.linear_model import LogisticRegression\n",
    "\n",
    "logi_model = LogisticRegression()\n",
    "logi_model.fit(train_array_hm, train_parenthm['parent_bin'])\n",
    "\n",
    "logi_model.score(train_array_hm, train_parenthm['parent_bin'])"
   ]
  },
  {
   "cell_type": "code",
   "execution_count": 34,
   "metadata": {},
   "outputs": [
    {
     "data": {
      "text/plain": [
       "['aa',\n",
       " 'aaa',\n",
       " 'aadat',\n",
       " 'aadhaar',\n",
       " 'aadhar',\n",
       " 'aagra',\n",
       " 'aakshayatriya',\n",
       " 'aas',\n",
       " 'aashwin',\n",
       " 'ab',\n",
       " 'aback',\n",
       " 'abacus',\n",
       " 'abandon',\n",
       " 'abandoned',\n",
       " 'abasket',\n",
       " 'abating',\n",
       " 'abbott',\n",
       " 'abby',\n",
       " 'abc',\n",
       " 'abcs']"
      ]
     },
     "execution_count": 34,
     "metadata": {},
     "output_type": "execute_result"
    }
   ],
   "source": [
    "#Explore the features and find something interesting in people's happy time when they have or not children.\n",
    "vocab_parent = vectorizer.get_feature_names()\n",
    "\n",
    "vocab_parent[:20]"
   ]
  },
  {
   "cell_type": "code",
   "execution_count": 37,
   "metadata": {},
   "outputs": [
    {
     "data": {
      "text/html": [
       "<div>\n",
       "<style scoped>\n",
       "    .dataframe tbody tr th:only-of-type {\n",
       "        vertical-align: middle;\n",
       "    }\n",
       "\n",
       "    .dataframe tbody tr th {\n",
       "        vertical-align: top;\n",
       "    }\n",
       "\n",
       "    .dataframe thead th {\n",
       "        text-align: right;\n",
       "    }\n",
       "</style>\n",
       "<table border=\"1\" class=\"dataframe\">\n",
       "  <thead>\n",
       "    <tr style=\"text-align: right;\">\n",
       "      <th></th>\n",
       "      <th>Word</th>\n",
       "      <th>Coeff</th>\n",
       "    </tr>\n",
       "  </thead>\n",
       "  <tbody>\n",
       "    <tr>\n",
       "      <th>4674</th>\n",
       "      <td>daughter</td>\n",
       "      <td>12.529862</td>\n",
       "    </tr>\n",
       "    <tr>\n",
       "      <th>17084</th>\n",
       "      <td>son</td>\n",
       "      <td>11.424060</td>\n",
       "    </tr>\n",
       "    <tr>\n",
       "      <th>9993</th>\n",
       "      <td>kids</td>\n",
       "      <td>8.683290</td>\n",
       "    </tr>\n",
       "    <tr>\n",
       "      <th>4675</th>\n",
       "      <td>daughters</td>\n",
       "      <td>5.179837</td>\n",
       "    </tr>\n",
       "    <tr>\n",
       "      <th>3204</th>\n",
       "      <td>children</td>\n",
       "      <td>5.167103</td>\n",
       "    </tr>\n",
       "    <tr>\n",
       "      <th>7873</th>\n",
       "      <td>granddaughter</td>\n",
       "      <td>4.945775</td>\n",
       "    </tr>\n",
       "    <tr>\n",
       "      <th>3197</th>\n",
       "      <td>child</td>\n",
       "      <td>4.932056</td>\n",
       "    </tr>\n",
       "    <tr>\n",
       "      <th>17098</th>\n",
       "      <td>sons</td>\n",
       "      <td>4.742522</td>\n",
       "    </tr>\n",
       "    <tr>\n",
       "      <th>9986</th>\n",
       "      <td>kid</td>\n",
       "      <td>4.252552</td>\n",
       "    </tr>\n",
       "    <tr>\n",
       "      <th>8867</th>\n",
       "      <td>husband</td>\n",
       "      <td>4.059655</td>\n",
       "    </tr>\n",
       "    <tr>\n",
       "      <th>7890</th>\n",
       "      <td>grandson</td>\n",
       "      <td>4.044663</td>\n",
       "    </tr>\n",
       "    <tr>\n",
       "      <th>1297</th>\n",
       "      <td>baby</td>\n",
       "      <td>3.157429</td>\n",
       "    </tr>\n",
       "    <tr>\n",
       "      <th>2208</th>\n",
       "      <td>boys</td>\n",
       "      <td>3.032904</td>\n",
       "    </tr>\n",
       "    <tr>\n",
       "      <th>18791</th>\n",
       "      <td>toddler</td>\n",
       "      <td>3.028598</td>\n",
       "    </tr>\n",
       "    <tr>\n",
       "      <th>3598</th>\n",
       "      <td>colleagues</td>\n",
       "      <td>2.897830</td>\n",
       "    </tr>\n",
       "    <tr>\n",
       "      <th>20366</th>\n",
       "      <td>wife</td>\n",
       "      <td>2.695460</td>\n",
       "    </tr>\n",
       "    <tr>\n",
       "      <th>18494</th>\n",
       "      <td>th</td>\n",
       "      <td>2.577405</td>\n",
       "    </tr>\n",
       "    <tr>\n",
       "      <th>4596</th>\n",
       "      <td>daddy</td>\n",
       "      <td>2.510959</td>\n",
       "    </tr>\n",
       "    <tr>\n",
       "      <th>7871</th>\n",
       "      <td>grandchildren</td>\n",
       "      <td>2.500860</td>\n",
       "    </tr>\n",
       "    <tr>\n",
       "      <th>20751</th>\n",
       "      <td>youngest</td>\n",
       "      <td>2.279800</td>\n",
       "    </tr>\n",
       "  </tbody>\n",
       "</table>\n",
       "</div>"
      ],
      "text/plain": [
       "                Word      Coeff\n",
       "4674        daughter  12.529862\n",
       "17084            son  11.424060\n",
       "9993            kids   8.683290\n",
       "4675       daughters   5.179837\n",
       "3204        children   5.167103\n",
       "7873   granddaughter   4.945775\n",
       "3197           child   4.932056\n",
       "17098           sons   4.742522\n",
       "9986             kid   4.252552\n",
       "8867         husband   4.059655\n",
       "7890        grandson   4.044663\n",
       "1297            baby   3.157429\n",
       "2208            boys   3.032904\n",
       "18791        toddler   3.028598\n",
       "3598      colleagues   2.897830\n",
       "20366           wife   2.695460\n",
       "18494             th   2.577405\n",
       "4596           daddy   2.510959\n",
       "7871   grandchildren   2.500860\n",
       "20751       youngest   2.279800"
      ]
     },
     "execution_count": 37,
     "metadata": {},
     "output_type": "execute_result"
    }
   ],
   "source": [
    "#The most frequency words in parents's happy time\n",
    "feature_names_parent = vocab_parent\n",
    "coefficients_parent = logi_model.coef_.tolist()[0]\n",
    "weight_parentdf = pd.DataFrame({'Word': feature_names_parent,\n",
    "                          'Coeff': coefficients_parent})\n",
    "weight_parentdf = weight_parentdf.sort_values(['Coeff', 'Word'], ascending=[0, 1])\n",
    "weight_parentdf.head(n=20)\n"
   ]
  },
  {
   "cell_type": "code",
   "execution_count": 38,
   "metadata": {},
   "outputs": [
    {
     "data": {
      "text/html": [
       "<div>\n",
       "<style scoped>\n",
       "    .dataframe tbody tr th:only-of-type {\n",
       "        vertical-align: middle;\n",
       "    }\n",
       "\n",
       "    .dataframe tbody tr th {\n",
       "        vertical-align: top;\n",
       "    }\n",
       "\n",
       "    .dataframe thead th {\n",
       "        text-align: right;\n",
       "    }\n",
       "</style>\n",
       "<table border=\"1\" class=\"dataframe\">\n",
       "  <thead>\n",
       "    <tr style=\"text-align: right;\">\n",
       "      <th></th>\n",
       "      <th>Word</th>\n",
       "      <th>Coeff</th>\n",
       "    </tr>\n",
       "  </thead>\n",
       "  <tbody>\n",
       "    <tr>\n",
       "      <th>2897</th>\n",
       "      <td>cats</td>\n",
       "      <td>-2.019970</td>\n",
       "    </tr>\n",
       "    <tr>\n",
       "      <th>2206</th>\n",
       "      <td>boyfriend</td>\n",
       "      <td>-2.043335</td>\n",
       "    </tr>\n",
       "    <tr>\n",
       "      <th>14760</th>\n",
       "      <td>recently</td>\n",
       "      <td>-2.115590</td>\n",
       "    </tr>\n",
       "    <tr>\n",
       "      <th>7414</th>\n",
       "      <td>future</td>\n",
       "      <td>-2.125239</td>\n",
       "    </tr>\n",
       "    <tr>\n",
       "      <th>7853</th>\n",
       "      <td>graduate</td>\n",
       "      <td>-2.190330</td>\n",
       "    </tr>\n",
       "    <tr>\n",
       "      <th>13963</th>\n",
       "      <td>precious</td>\n",
       "      <td>-2.271958</td>\n",
       "    </tr>\n",
       "    <tr>\n",
       "      <th>13071</th>\n",
       "      <td>partner</td>\n",
       "      <td>-2.378295</td>\n",
       "    </tr>\n",
       "    <tr>\n",
       "      <th>15609</th>\n",
       "      <td>roommate</td>\n",
       "      <td>-3.102773</td>\n",
       "    </tr>\n",
       "    <tr>\n",
       "      <th>19363</th>\n",
       "      <td>uncle</td>\n",
       "      <td>-3.316983</td>\n",
       "    </tr>\n",
       "    <tr>\n",
       "      <th>7661</th>\n",
       "      <td>girlfriend</td>\n",
       "      <td>-4.944808</td>\n",
       "    </tr>\n",
       "  </tbody>\n",
       "</table>\n",
       "</div>"
      ],
      "text/plain": [
       "             Word     Coeff\n",
       "2897         cats -2.019970\n",
       "2206    boyfriend -2.043335\n",
       "14760    recently -2.115590\n",
       "7414       future -2.125239\n",
       "7853     graduate -2.190330\n",
       "13963    precious -2.271958\n",
       "13071     partner -2.378295\n",
       "15609    roommate -3.102773\n",
       "19363       uncle -3.316983\n",
       "7661   girlfriend -4.944808"
      ]
     },
     "execution_count": 38,
     "metadata": {},
     "output_type": "execute_result"
    }
   ],
   "source": [
    "#The most frequency words in people's happy time when they're not parents\n",
    "weight_parentdf.tail(n=10)\n"
   ]
  },
  {
   "cell_type": "markdown",
   "metadata": {},
   "source": [
    "## Part3: Deal with the 9-classes classification."
   ]
  },
  {
   "cell_type": "code",
   "execution_count": 39,
   "metadata": {},
   "outputs": [],
   "source": [
    "total_bin_data = merge_data[(merge_data['parenthood'] == 'y') \n",
    "                            | (merge_data['parenthood'] == 'n') \n",
    "                            | (merge_data['marital'] == 'single') \n",
    "                            | (merge_data['marital'] == 'married') \n",
    "                            | (merge_data['marital'] == 'divorced') \n",
    "                            | (merge_data['marital'] == 'separated') \n",
    "                            | (merge_data['marital'] == 'widowed') \n",
    "                            | (merge_data['gender'] == 'm') \n",
    "                            | (merge_data['gender'] == 'f') ]"
   ]
  },
  {
   "cell_type": "code",
   "execution_count": 40,
   "metadata": {},
   "outputs": [
    {
     "data": {
      "text/html": [
       "<div>\n",
       "<style scoped>\n",
       "    .dataframe tbody tr th:only-of-type {\n",
       "        vertical-align: middle;\n",
       "    }\n",
       "\n",
       "    .dataframe tbody tr th {\n",
       "        vertical-align: top;\n",
       "    }\n",
       "\n",
       "    .dataframe thead th {\n",
       "        text-align: right;\n",
       "    }\n",
       "</style>\n",
       "<table border=\"1\" class=\"dataframe\">\n",
       "  <thead>\n",
       "    <tr style=\"text-align: right;\">\n",
       "      <th></th>\n",
       "      <th>wid</th>\n",
       "      <th>cleaned_hm</th>\n",
       "      <th>gender</th>\n",
       "      <th>marital</th>\n",
       "      <th>parenthood</th>\n",
       "    </tr>\n",
       "  </thead>\n",
       "  <tbody>\n",
       "    <tr>\n",
       "      <th>0</th>\n",
       "      <td>2053</td>\n",
       "      <td>I went on a successful date with someone I fel...</td>\n",
       "      <td>m</td>\n",
       "      <td>single</td>\n",
       "      <td>n</td>\n",
       "    </tr>\n",
       "    <tr>\n",
       "      <th>1</th>\n",
       "      <td>2053</td>\n",
       "      <td>I played a new game that was fun and got to en...</td>\n",
       "      <td>m</td>\n",
       "      <td>single</td>\n",
       "      <td>n</td>\n",
       "    </tr>\n",
       "    <tr>\n",
       "      <th>2</th>\n",
       "      <td>2053</td>\n",
       "      <td>I listened to some music and heard an entire a...</td>\n",
       "      <td>m</td>\n",
       "      <td>single</td>\n",
       "      <td>n</td>\n",
       "    </tr>\n",
       "    <tr>\n",
       "      <th>3</th>\n",
       "      <td>2053</td>\n",
       "      <td>Went to see a movie with my friend</td>\n",
       "      <td>m</td>\n",
       "      <td>single</td>\n",
       "      <td>n</td>\n",
       "    </tr>\n",
       "    <tr>\n",
       "      <th>4</th>\n",
       "      <td>2053</td>\n",
       "      <td>Played guitar, learning a song on it</td>\n",
       "      <td>m</td>\n",
       "      <td>single</td>\n",
       "      <td>n</td>\n",
       "    </tr>\n",
       "  </tbody>\n",
       "</table>\n",
       "</div>"
      ],
      "text/plain": [
       "    wid                                         cleaned_hm gender marital  \\\n",
       "0  2053  I went on a successful date with someone I fel...      m  single   \n",
       "1  2053  I played a new game that was fun and got to en...      m  single   \n",
       "2  2053  I listened to some music and heard an entire a...      m  single   \n",
       "3  2053                 Went to see a movie with my friend      m  single   \n",
       "4  2053               Played guitar, learning a song on it      m  single   \n",
       "\n",
       "  parenthood  \n",
       "0          n  \n",
       "1          n  \n",
       "2          n  \n",
       "3          n  \n",
       "4          n  "
      ]
     },
     "execution_count": 40,
     "metadata": {},
     "output_type": "execute_result"
    }
   ],
   "source": [
    "#identify the author's gender, marital statue and parenthood statue for each happy moment\n",
    "total_bin_data = total_bin_data[['wid','cleaned_hm','gender','marital','parenthood']]\n",
    "total_bin_data.head()"
   ]
  },
  {
   "cell_type": "code",
   "execution_count": 41,
   "metadata": {},
   "outputs": [
    {
     "data": {
      "text/html": [
       "<div>\n",
       "<style scoped>\n",
       "    .dataframe tbody tr th:only-of-type {\n",
       "        vertical-align: middle;\n",
       "    }\n",
       "\n",
       "    .dataframe tbody tr th {\n",
       "        vertical-align: top;\n",
       "    }\n",
       "\n",
       "    .dataframe thead th {\n",
       "        text-align: right;\n",
       "    }\n",
       "</style>\n",
       "<table border=\"1\" class=\"dataframe\">\n",
       "  <thead>\n",
       "    <tr style=\"text-align: right;\">\n",
       "      <th></th>\n",
       "      <th>wid</th>\n",
       "      <th>cleaned_hm</th>\n",
       "      <th>gender</th>\n",
       "      <th>marital</th>\n",
       "      <th>parenthood</th>\n",
       "      <th>statue_bin</th>\n",
       "    </tr>\n",
       "  </thead>\n",
       "  <tbody>\n",
       "    <tr>\n",
       "      <th>0</th>\n",
       "      <td>2053</td>\n",
       "      <td>I went on a successful date with someone I fel...</td>\n",
       "      <td>m</td>\n",
       "      <td>single</td>\n",
       "      <td>n</td>\n",
       "      <td>NaN</td>\n",
       "    </tr>\n",
       "    <tr>\n",
       "      <th>1</th>\n",
       "      <td>2053</td>\n",
       "      <td>I played a new game that was fun and got to en...</td>\n",
       "      <td>m</td>\n",
       "      <td>single</td>\n",
       "      <td>n</td>\n",
       "      <td>NaN</td>\n",
       "    </tr>\n",
       "    <tr>\n",
       "      <th>2</th>\n",
       "      <td>2053</td>\n",
       "      <td>I listened to some music and heard an entire a...</td>\n",
       "      <td>m</td>\n",
       "      <td>single</td>\n",
       "      <td>n</td>\n",
       "      <td>NaN</td>\n",
       "    </tr>\n",
       "    <tr>\n",
       "      <th>3</th>\n",
       "      <td>2053</td>\n",
       "      <td>Went to see a movie with my friend</td>\n",
       "      <td>m</td>\n",
       "      <td>single</td>\n",
       "      <td>n</td>\n",
       "      <td>NaN</td>\n",
       "    </tr>\n",
       "    <tr>\n",
       "      <th>4</th>\n",
       "      <td>2053</td>\n",
       "      <td>Played guitar, learning a song on it</td>\n",
       "      <td>m</td>\n",
       "      <td>single</td>\n",
       "      <td>n</td>\n",
       "      <td>NaN</td>\n",
       "    </tr>\n",
       "  </tbody>\n",
       "</table>\n",
       "</div>"
      ],
      "text/plain": [
       "    wid                                         cleaned_hm gender marital  \\\n",
       "0  2053  I went on a successful date with someone I fel...      m  single   \n",
       "1  2053  I played a new game that was fun and got to en...      m  single   \n",
       "2  2053  I listened to some music and heard an entire a...      m  single   \n",
       "3  2053                 Went to see a movie with my friend      m  single   \n",
       "4  2053               Played guitar, learning a song on it      m  single   \n",
       "\n",
       "  parenthood  statue_bin  \n",
       "0          n         NaN  \n",
       "1          n         NaN  \n",
       "2          n         NaN  \n",
       "3          n         NaN  \n",
       "4          n         NaN  "
      ]
     },
     "execution_count": 41,
     "metadata": {},
     "output_type": "execute_result"
    }
   ],
   "source": [
    "total_bin_data['statue_bin'] = np.nan\n",
    "total_bin_data[:5]"
   ]
  },
  {
   "cell_type": "code",
   "execution_count": 42,
   "metadata": {},
   "outputs": [],
   "source": [
    "#convert the representation of people with different gender, marital statue and parenthood statue into numbers\n",
    "for i in range(0, total_bin_data['statue_bin'].size):\n",
    "    if total_bin_data.iloc[i]['gender'] == 'm': \n",
    "        if total_bin_data.iloc[i]['marital'] == 'married': \n",
    "            if total_bin_data.iloc[i]['parenthood'] == 'y':\n",
    "                total_bin_data.loc[i,'statue_bin'] = '0'\n",
    "            else:\n",
    "                total_bin_data.loc[i,'statue_bin'] = '1'\n",
    "        if total_bin_data.iloc[i]['marital'] == 'single' or total_bin_data.iloc[i]['marital'] == 'divorced' or total_bin_data.iloc[i]['marital'] == 'widowed'or total_bin_data.iloc[i]['marital'] == 'separated':\n",
    "            if total_bin_data.iloc[i]['parenthood'] == 'y':\n",
    "                total_bin_data.loc[i,'statue_bin'] = '2'\n",
    "            else :\n",
    "                total_bin_data.loc[i,'statue_bin'] = '3'\n",
    "    if total_bin_data.iloc[i]['gender'] == 'f': \n",
    "        if total_bin_data.iloc[i]['marital'] == 'married': \n",
    "            if total_bin_data.iloc[i]['parenthood'] == 'y':\n",
    "                total_bin_data.loc[i,'statue_bin'] = '4'\n",
    "            else :\n",
    "                total_bin_data.loc[i,'statue_bin'] = '5'\n",
    "        if total_bin_data.iloc[i]['marital'] == 'single' or total_bin_data.iloc[i]['marital'] == 'divorced' or total_bin_data.iloc[i]['marital'] == 'widowed' or total_bin_data.iloc[i]['marital'] == 'separated':\n",
    "            if total_bin_data.iloc[i]['parenthood'] == 'y':\n",
    "                total_bin_data.loc[i,'statue_bin'] = '6'\n",
    "            else :\n",
    "                total_bin_data.loc[i,'statue_bin'] = '7'\n",
    "    if total_bin_data.iloc[i]['gender'] != 'f' and total_bin_data.iloc[i]['gender'] != 'm': \n",
    "        total_bin_data.loc[i,'statue_bin'] = '8'"
   ]
  },
  {
   "cell_type": "code",
   "execution_count": 43,
   "metadata": {},
   "outputs": [
    {
     "data": {
      "text/html": [
       "<div>\n",
       "<style scoped>\n",
       "    .dataframe tbody tr th:only-of-type {\n",
       "        vertical-align: middle;\n",
       "    }\n",
       "\n",
       "    .dataframe tbody tr th {\n",
       "        vertical-align: top;\n",
       "    }\n",
       "\n",
       "    .dataframe thead th {\n",
       "        text-align: right;\n",
       "    }\n",
       "</style>\n",
       "<table border=\"1\" class=\"dataframe\">\n",
       "  <thead>\n",
       "    <tr style=\"text-align: right;\">\n",
       "      <th></th>\n",
       "      <th>wid</th>\n",
       "      <th>cleaned_hm</th>\n",
       "      <th>gender</th>\n",
       "      <th>marital</th>\n",
       "      <th>parenthood</th>\n",
       "      <th>statue_bin</th>\n",
       "    </tr>\n",
       "  </thead>\n",
       "  <tbody>\n",
       "    <tr>\n",
       "      <th>1158</th>\n",
       "      <td>402.0</td>\n",
       "      <td>Going to the mountains and hiking the trail to...</td>\n",
       "      <td>m</td>\n",
       "      <td>married</td>\n",
       "      <td>n</td>\n",
       "      <td>1</td>\n",
       "    </tr>\n",
       "    <tr>\n",
       "      <th>1159</th>\n",
       "      <td>402.0</td>\n",
       "      <td>Taking my dog for a walk and having a conversa...</td>\n",
       "      <td>m</td>\n",
       "      <td>married</td>\n",
       "      <td>n</td>\n",
       "      <td>1</td>\n",
       "    </tr>\n",
       "    <tr>\n",
       "      <th>1160</th>\n",
       "      <td>402.0</td>\n",
       "      <td>Meeting up with my girlfriend at the park and ...</td>\n",
       "      <td>m</td>\n",
       "      <td>married</td>\n",
       "      <td>n</td>\n",
       "      <td>1</td>\n",
       "    </tr>\n",
       "    <tr>\n",
       "      <th>1161</th>\n",
       "      <td>402.0</td>\n",
       "      <td>Went out for a walk and had a great talk with ...</td>\n",
       "      <td>m</td>\n",
       "      <td>married</td>\n",
       "      <td>n</td>\n",
       "      <td>1</td>\n",
       "    </tr>\n",
       "    <tr>\n",
       "      <th>1162</th>\n",
       "      <td>402.0</td>\n",
       "      <td>Exercised and managed to beat my record of run...</td>\n",
       "      <td>m</td>\n",
       "      <td>married</td>\n",
       "      <td>n</td>\n",
       "      <td>1</td>\n",
       "    </tr>\n",
       "    <tr>\n",
       "      <th>1163</th>\n",
       "      <td>402.0</td>\n",
       "      <td>Bought a few pounds of crab legs and cooked th...</td>\n",
       "      <td>m</td>\n",
       "      <td>married</td>\n",
       "      <td>n</td>\n",
       "      <td>1</td>\n",
       "    </tr>\n",
       "    <tr>\n",
       "      <th>1164</th>\n",
       "      <td>402.0</td>\n",
       "      <td>Went downstairs and cuddled with my cat on the...</td>\n",
       "      <td>m</td>\n",
       "      <td>married</td>\n",
       "      <td>n</td>\n",
       "      <td>1</td>\n",
       "    </tr>\n",
       "    <tr>\n",
       "      <th>1165</th>\n",
       "      <td>402.0</td>\n",
       "      <td>Made a big breakfast of eggs bacon on a bagel ...</td>\n",
       "      <td>m</td>\n",
       "      <td>married</td>\n",
       "      <td>n</td>\n",
       "      <td>1</td>\n",
       "    </tr>\n",
       "    <tr>\n",
       "      <th>1166</th>\n",
       "      <td>402.0</td>\n",
       "      <td>Going out for my daily jog and not getting tir...</td>\n",
       "      <td>m</td>\n",
       "      <td>married</td>\n",
       "      <td>n</td>\n",
       "      <td>1</td>\n",
       "    </tr>\n",
       "    <tr>\n",
       "      <th>1167</th>\n",
       "      <td>402.0</td>\n",
       "      <td>Having a nice phone call with my mother for an...</td>\n",
       "      <td>m</td>\n",
       "      <td>married</td>\n",
       "      <td>n</td>\n",
       "      <td>1</td>\n",
       "    </tr>\n",
       "  </tbody>\n",
       "</table>\n",
       "</div>"
      ],
      "text/plain": [
       "        wid                                         cleaned_hm gender  \\\n",
       "1158  402.0  Going to the mountains and hiking the trail to...      m   \n",
       "1159  402.0  Taking my dog for a walk and having a conversa...      m   \n",
       "1160  402.0  Meeting up with my girlfriend at the park and ...      m   \n",
       "1161  402.0  Went out for a walk and had a great talk with ...      m   \n",
       "1162  402.0  Exercised and managed to beat my record of run...      m   \n",
       "1163  402.0  Bought a few pounds of crab legs and cooked th...      m   \n",
       "1164  402.0  Went downstairs and cuddled with my cat on the...      m   \n",
       "1165  402.0  Made a big breakfast of eggs bacon on a bagel ...      m   \n",
       "1166  402.0  Going out for my daily jog and not getting tir...      m   \n",
       "1167  402.0  Having a nice phone call with my mother for an...      m   \n",
       "\n",
       "      marital parenthood statue_bin  \n",
       "1158  married          n          1  \n",
       "1159  married          n          1  \n",
       "1160  married          n          1  \n",
       "1161  married          n          1  \n",
       "1162  married          n          1  \n",
       "1163  married          n          1  \n",
       "1164  married          n          1  \n",
       "1165  married          n          1  \n",
       "1166  married          n          1  \n",
       "1167  married          n          1  "
      ]
     },
     "execution_count": 43,
     "metadata": {},
     "output_type": "execute_result"
    }
   ],
   "source": [
    "total_bin_data[total_bin_data['statue_bin']== '1'][:10]"
   ]
  },
  {
   "cell_type": "code",
   "execution_count": 44,
   "metadata": {},
   "outputs": [
    {
     "data": {
      "text/plain": [
       "<matplotlib.axes._subplots.AxesSubplot at 0x1b58b4a278>"
      ]
     },
     "execution_count": 44,
     "metadata": {},
     "output_type": "execute_result"
    },
    {
     "data": {
      "image/png": "[encoded data removed]",
      "text/plain": [
       "<Figure size 432x288 with 1 Axes>"
      ]
     },
     "metadata": {
      "needs_background": "light"
     },
     "output_type": "display_data"
    }
   ],
   "source": [
    "total_bin_data.statue_bin.value_counts().plot(kind='bar')"
   ]
  },
  {
   "cell_type": "code",
   "execution_count": 45,
   "metadata": {},
   "outputs": [
    {
     "data": {
      "text/html": [
       "<div>\n",
       "<style scoped>\n",
       "    .dataframe tbody tr th:only-of-type {\n",
       "        vertical-align: middle;\n",
       "    }\n",
       "\n",
       "    .dataframe tbody tr th {\n",
       "        vertical-align: top;\n",
       "    }\n",
       "\n",
       "    .dataframe thead th {\n",
       "        text-align: right;\n",
       "    }\n",
       "</style>\n",
       "<table border=\"1\" class=\"dataframe\">\n",
       "  <thead>\n",
       "    <tr style=\"text-align: right;\">\n",
       "      <th></th>\n",
       "      <th>cleaned_hm</th>\n",
       "      <th>statue_bin</th>\n",
       "    </tr>\n",
       "  </thead>\n",
       "  <tbody>\n",
       "    <tr>\n",
       "      <th>count</th>\n",
       "      <td>100357</td>\n",
       "      <td>100383</td>\n",
       "    </tr>\n",
       "    <tr>\n",
       "      <th>unique</th>\n",
       "      <td>96311</td>\n",
       "      <td>9</td>\n",
       "    </tr>\n",
       "    <tr>\n",
       "      <th>top</th>\n",
       "      <td>I WENT TO TEMPLE</td>\n",
       "      <td>3</td>\n",
       "    </tr>\n",
       "    <tr>\n",
       "      <th>freq</th>\n",
       "      <td>120</td>\n",
       "      <td>33431</td>\n",
       "    </tr>\n",
       "  </tbody>\n",
       "</table>\n",
       "</div>"
      ],
      "text/plain": [
       "              cleaned_hm statue_bin\n",
       "count             100357     100383\n",
       "unique             96311          9\n",
       "top     I WENT TO TEMPLE          3\n",
       "freq                 120      33431"
      ]
     },
     "execution_count": 45,
     "metadata": {},
     "output_type": "execute_result"
    }
   ],
   "source": [
    "total_bin_data = total_bin_data[['cleaned_hm','statue_bin']]\n",
    "total_bin_data = total_bin_data[(total_bin_data['statue_bin'] == '0') \n",
    "                                | (total_bin_data['statue_bin'] == '1') \n",
    "                                | (total_bin_data['statue_bin'] == '2') \n",
    "                                | (total_bin_data['statue_bin'] == '3') \n",
    "                                | (total_bin_data['statue_bin'] == '4') \n",
    "                                | (total_bin_data['statue_bin'] == '5') \n",
    "                                | (total_bin_data['statue_bin'] == '6') \n",
    "                                | (total_bin_data['statue_bin'] == '7') \n",
    "                                | (total_bin_data['statue_bin'] == '8') ]\n",
    "total_bin_data.describe()"
   ]
  },
  {
   "cell_type": "code",
   "execution_count": 46,
   "metadata": {},
   "outputs": [
    {
     "data": {
      "text/html": [
       "<div>\n",
       "<style scoped>\n",
       "    .dataframe tbody tr th:only-of-type {\n",
       "        vertical-align: middle;\n",
       "    }\n",
       "\n",
       "    .dataframe tbody tr th {\n",
       "        vertical-align: top;\n",
       "    }\n",
       "\n",
       "    .dataframe thead th {\n",
       "        text-align: right;\n",
       "    }\n",
       "</style>\n",
       "<table border=\"1\" class=\"dataframe\">\n",
       "  <thead>\n",
       "    <tr style=\"text-align: right;\">\n",
       "      <th></th>\n",
       "      <th>cleaned_hm</th>\n",
       "      <th>statue_bin</th>\n",
       "    </tr>\n",
       "  </thead>\n",
       "  <tbody>\n",
       "    <tr>\n",
       "      <th>0</th>\n",
       "      <td>I'm drinking a delicious beer at home.</td>\n",
       "      <td>6</td>\n",
       "    </tr>\n",
       "    <tr>\n",
       "      <th>1</th>\n",
       "      <td>I was able to go out and spend an evening with...</td>\n",
       "      <td>5</td>\n",
       "    </tr>\n",
       "    <tr>\n",
       "      <th>2</th>\n",
       "      <td>My daughter and I watched a tv show when we go...</td>\n",
       "      <td>5</td>\n",
       "    </tr>\n",
       "    <tr>\n",
       "      <th>3</th>\n",
       "      <td>I discovered my 1 year old niece learned how t...</td>\n",
       "      <td>5</td>\n",
       "    </tr>\n",
       "    <tr>\n",
       "      <th>4</th>\n",
       "      <td>I want to a romantic dinner with my man and ...</td>\n",
       "      <td>7</td>\n",
       "    </tr>\n",
       "  </tbody>\n",
       "</table>\n",
       "</div>"
      ],
      "text/plain": [
       "                                          cleaned_hm statue_bin\n",
       "0             I'm drinking a delicious beer at home.          6\n",
       "1  I was able to go out and spend an evening with...          5\n",
       "2  My daughter and I watched a tv show when we go...          5\n",
       "3  I discovered my 1 year old niece learned how t...          5\n",
       "4    I want to a romantic dinner with my man and ...          7"
      ]
     },
     "execution_count": 46,
     "metadata": {},
     "output_type": "execute_result"
    }
   ],
   "source": [
    "#split the data to train and test\n",
    "total_size = total_bin_data['cleaned_hm'].size\n",
    "num_total_hm = int(0.7 * total_bin_data['cleaned_hm'].size)\n",
    "\n",
    "train_totalhm = total_bin_data.iloc[0:num_total_hm]\n",
    "test_totalhm = total_bin_data.iloc[num_total_hm:total_size]\n",
    "test_totalhm = test_totalhm.reset_index(drop=True)\n",
    "\n",
    "test_totalhm.head()"
   ]
  },
  {
   "cell_type": "code",
   "execution_count": 47,
   "metadata": {},
   "outputs": [
    {
     "name": "stdout",
     "output_type": "stream",
     "text": [
      "Texts cleaned up! \n",
      "\n"
     ]
    }
   ],
   "source": [
    "# clean data and delete all stop words\n",
    "prepro_totaltrain = clean_up_texts(train_totalhm)\n",
    "prepro_totaltest = clean_up_texts(test_totalhm)\n",
    "print(\"Texts cleaned up! \\n\")"
   ]
  },
  {
   "cell_type": "code",
   "execution_count": 48,
   "metadata": {},
   "outputs": [
    {
     "name": "stdout",
     "output_type": "stream",
     "text": [
      "Dimension of the training data: (70268, 20813)\n"
     ]
    }
   ],
   "source": [
    "vectorizer = CountVectorizer(analyzer = \"word\")\n",
    "features_train_hm = vectorizer.fit_transform(prepro_totaltrain)\n",
    "tf_transformer = TfidfTransformer(use_idf=False).fit(features_train_hm)\n",
    "features_train_hm_tf = tf_transformer.transform(features_train_hm)\n",
    "train_array_hm = features_train_hm_tf.toarray()\n",
    "print(\"Dimension of the training data: {}\".format(train_array_hm.shape))"
   ]
  },
  {
   "cell_type": "code",
   "execution_count": 49,
   "metadata": {},
   "outputs": [
    {
     "name": "stdout",
     "output_type": "stream",
     "text": [
      "Dimension of the test data: (30115, 20813)\n"
     ]
    }
   ],
   "source": [
    "# Feature selection, use the bag of words model, create a dictionary based on the input strings\n",
    "\n",
    "features_test_hm = vectorizer.transform(prepro_totaltest)\n",
    "tf_transformer = TfidfTransformer(use_idf=False).fit(features_test_hm)\n",
    "features_test_hm_tf = tf_transformer.transform(features_test_hm)\n",
    "test_array_hm = features_test_hm_tf.toarray()\n",
    "print(\"Dimension of the test data: {}\".format(test_array_hm.shape))"
   ]
  },
  {
   "cell_type": "code",
   "execution_count": 50,
   "metadata": {},
   "outputs": [
    {
     "name": "stderr",
     "output_type": "stream",
     "text": [
      "/Users/lumin/anaconda3/lib/python3.7/site-packages/sklearn/linear_model/stochastic_gradient.py:183: FutureWarning: max_iter and tol parameters have been added in SGDClassifier in 0.19. If max_iter is set but tol is left unset, the default value for tol in 0.19 and 0.20 will be None (which is equivalent to -infinity, so it has no effect) but will change in 0.21 to 1e-3. Specify tol to silence this warning.\n",
      "  FutureWarning)\n"
     ]
    },
    {
     "name": "stdout",
     "output_type": "stream",
     "text": [
      "0.29473684210526313\n"
     ]
    }
   ],
   "source": [
    "#Train the SGDClassifier model and implement on the test data. Then evaluate the predication.\n",
    "\n",
    "clf = SGDClassifier(loss=\"hinge\", penalty=\"l2\", max_iter=10)\n",
    "clf = clf.fit(train_array_hm, train_totalhm['statue_bin'])\n",
    "predictions = clf.predict(test_array_hm)\n",
    "print(metrics.accuracy_score(test_totalhm['statue_bin'], predictions))"
   ]
  },
  {
   "cell_type": "code",
   "execution_count": 51,
   "metadata": {},
   "outputs": [
    {
     "name": "stderr",
     "output_type": "stream",
     "text": [
      "/Users/lumin/anaconda3/lib/python3.7/site-packages/sklearn/linear_model/stochastic_gradient.py:183: FutureWarning: max_iter and tol parameters have been added in SGDClassifier in 0.19. If max_iter is set but tol is left unset, the default value for tol in 0.19 and 0.20 will be None (which is equivalent to -infinity, so it has no effect) but will change in 0.21 to 1e-3. Specify tol to silence this warning.\n",
      "  FutureWarning)\n"
     ]
    },
    {
     "name": "stdout",
     "output_type": "stream",
     "text": [
      "0.3105097127677237\n"
     ]
    }
   ],
   "source": [
    "clf = SGDClassifier(loss=\"log\", penalty=\"l1\", max_iter=10)\n",
    "clf = clf.fit(train_array_hm, train_totalhm['statue_bin'])\n",
    "predictions = clf.predict(test_array_hm)\n",
    "print(metrics.accuracy_score(test_totalhm['statue_bin'], predictions))"
   ]
  },
  {
   "cell_type": "code",
   "execution_count": 52,
   "metadata": {},
   "outputs": [
    {
     "name": "stderr",
     "output_type": "stream",
     "text": [
      "/Users/lumin/anaconda3/lib/python3.7/site-packages/sklearn/linear_model/logistic.py:433: FutureWarning: Default solver will be changed to 'lbfgs' in 0.22. Specify a solver to silence this warning.\n",
      "  FutureWarning)\n",
      "/Users/lumin/anaconda3/lib/python3.7/site-packages/sklearn/linear_model/logistic.py:460: FutureWarning: Default multi_class will be changed to 'auto' in 0.22. Specify the multi_class option to silence this warning.\n",
      "  \"this warning.\", FutureWarning)\n"
     ]
    },
    {
     "data": {
      "text/plain": [
       "0.4586582797290374"
      ]
     },
     "execution_count": 52,
     "metadata": {},
     "output_type": "execute_result"
    }
   ],
   "source": [
    "#Train the LogisticRegression model and implement on the test data. Then evaluate the predication.\n",
    "\n",
    "logi_model = LogisticRegression()\n",
    "logi_model.fit(train_array_hm, train_totalhm['statue_bin'])\n",
    "\n",
    "logi_model.score(train_array_hm, train_totalhm['statue_bin'])"
   ]
  },
  {
   "cell_type": "code",
   "execution_count": 54,
   "metadata": {},
   "outputs": [
    {
     "name": "stdout",
     "output_type": "stream",
     "text": [
      "0.2938070728872655\n"
     ]
    }
   ],
   "source": [
    "predictions = logi_model.predict(test_array_hm)\n",
    "print(metrics.accuracy_score(test_totalhm['statue_bin'], predictions))"
   ]
  },
  {
   "cell_type": "code",
   "execution_count": 55,
   "metadata": {},
   "outputs": [
    {
     "name": "stdout",
     "output_type": "stream",
     "text": [
      "0.2766063423543085\n"
     ]
    }
   ],
   "source": [
    "#Train the LinearSVC model and implement on the test data. Then evaluate the predication.\n",
    "from sklearn.svm import LinearSVC\n",
    "clf = LinearSVC(random_state=0, tol=1e-5)\n",
    "clf = clf.fit(train_array_hm, train_totalhm['statue_bin'])\n",
    "predictions = clf.predict(test_array_hm)\n",
    "print(metrics.accuracy_score(test_totalhm['statue_bin'], predictions))"
   ]
  },
  {
   "cell_type": "code",
   "execution_count": 56,
   "metadata": {},
   "outputs": [
    {
     "name": "stdout",
     "output_type": "stream",
     "text": [
      "0.29473684210526313\n"
     ]
    }
   ],
   "source": [
    "#Train the naive_bayes model and implement on the test data. Then evaluate the predication.\n",
    "\n",
    "from sklearn.naive_bayes import BernoulliNB, MultinomialNB\n",
    "clf = MultinomialNB(alpha=0.01, class_prior=None, fit_prior=True)\n",
    "clf = clf.fit(train_array_hm, train_totalhm['statue_bin'])\n",
    "predictions = clf.predict(test_array_hm)\n",
    "print(metrics.accuracy_score(test_totalhm['statue_bin'], predictions))"
   ]
  },
  {
   "cell_type": "code",
   "execution_count": null,
   "metadata": {},
   "outputs": [],
   "source": []
  }
 ],
 "metadata": {
  "kernelspec": {
   "display_name": "Python 3",
   "language": "python",
   "name": "python3"
  },
  "language_info": {
   "codemirror_mode": {
    "name": "ipython",
    "version": 3
   },
   "file_extension": ".py",
   "mimetype": "text/x-python",
   "name": "python",
   "nbconvert_exporter": "python",
   "pygments_lexer": "ipython3",
   "version": "3.7.1"
  }
 },
 "nbformat": 4,
 "nbformat_minor": 2
}
